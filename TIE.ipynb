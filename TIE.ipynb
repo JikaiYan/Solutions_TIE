{
 "cells": [
  {
   "cell_type": "markdown",
   "id": "a851f335",
   "metadata": {},
   "source": [
    "# TIE\n",
    "We first focus on the linear one. "
   ]
  },
  {
   "cell_type": "markdown",
   "id": "750e42ed",
   "metadata": {},
   "source": [
    "\\begin{equation}\n",
    "    k \\frac{\\partial I(r)}{\\partial z} + \\nabla I(r) \\cdot \\nabla \\phi(r) + \\nabla^2 \\phi(r) = 0\n",
    "    \\label{eq:TIE}\n",
    "\\end{equation}\n",
    "\\begin{equation}\n",
    "    2k \\frac{\\partial \\phi(r)}{\\partial z} + \\lvert \\nabla \\phi(r) \\rvert^2 - I^{-\\frac{1}{2}}\\nabla^2 I^{\\frac{1}{2}} = 0\n",
    "    \\label{eq:nonlinear}\n",
    "\\end{equation}"
   ]
  },
  {
   "cell_type": "code",
   "execution_count": null,
   "id": "a873fd87",
   "metadata": {},
   "outputs": [],
   "source": []
  }
 ],
 "metadata": {
  "kernelspec": {
   "display_name": "Python 3 (ipykernel)",
   "language": "python",
   "name": "python3"
  },
  "language_info": {
   "codemirror_mode": {
    "name": "ipython",
    "version": 3
   },
   "file_extension": ".py",
   "mimetype": "text/x-python",
   "name": "python",
   "nbconvert_exporter": "python",
   "pygments_lexer": "ipython3",
   "version": "3.9.13"
  }
 },
 "nbformat": 4,
 "nbformat_minor": 5
}
