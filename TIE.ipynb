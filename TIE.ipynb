{
 "cells": [
  {
   "cell_type": "markdown",
   "id": "a851f335",
   "metadata": {},
   "source": [
    "# TIE\n",
    "We first focus on the linear one. "
   ]
  },
  {
   "cell_type": "markdown",
   "id": "750e42ed",
   "metadata": {},
   "source": [
    "\\begin{equation}\n",
    "    k \\frac{\\partial I(r)}{\\partial z} + \\nabla I(r) \\cdot \\nabla \\phi(r) + \\nabla^2 \\phi(r) = 0\n",
    "    \\label{eq:TIE}\n",
    "\\end{equation}\n",
    "\\begin{equation}\n",
    "    2k \\frac{\\partial \\phi(r)}{\\partial z} + \\lvert \\nabla \\phi(r) \\rvert^2 - I^{-\\frac{1}{2}}\\nabla^2 I^{\\frac{1}{2}} = 0\n",
    "    \\label{eq:nonlinear}\n",
    "\\end{equation}"
   ]
  },
  {
   "cell_type": "code",
   "execution_count": 1,
   "id": "a873fd87",
   "metadata": {},
   "outputs": [],
   "source": [
    "import numpy as np"
   ]
  },
  {
   "cell_type": "code",
   "execution_count": null,
   "id": "e59c6efa",
   "metadata": {},
   "outputs": [],
   "source": [
    "# low rank approxi\n",
    "def det_ap(c,r):"
   ]
  },
  {
   "cell_type": "code",
   "execution_count": null,
   "id": "2e2314aa",
   "metadata": {},
   "outputs": [],
   "source": [
    "def sto_ap(c,r):"
   ]
  },
  {
   "cell_type": "code",
   "execution_count": null,
   "id": "6bc52b3a",
   "metadata": {},
   "outputs": [],
   "source": [
    "def det_eki(x0,A,y,L):\n",
    "    #Init\n",
    "    X0 = x0f\n",
    "    A0 = A\n",
    "    # iteration\n",
    "    # for....... eps\n",
    "    B = np.sqrt(R)*L*A0\n",
    "    X = X + A/(B*B+I)*B*np.sqrt(R)*(y-L*X)\n",
    "    A = A/np.sqrt(B*B+I)\n",
    "    return X"
   ]
  },
  {
   "cell_type": "code",
   "execution_count": null,
   "id": "f91ec37a",
   "metadata": {},
   "outputs": [],
   "source": [
    "def adp_eki(r,b,alpha,delta,yhat,L, J0,tau,A, R,x0):\n",
    "    k = 1\n",
    "    for k >= 1:\n",
    "        alpha = (b^k)*alpha\n",
    "        J = (b^(-k/r))*J0\n",
    "        Ak =\n",
    "        Bk = np.sqrt(1/R)*L*Ak\n",
    "        rl = np.sqrt(1/R)*L\n",
    "        X = x0 + Ak/(Bk*Bk + alpha*I)*Bk*(np.sqrt(1/R)*yhat-rl*x0)\n",
    "        if np.sqrt(1/R)*(yhat - L*X)\n",
    "        k = k + 1\n",
    "        \n",
    "        "
   ]
  }
 ],
 "metadata": {
  "kernelspec": {
   "display_name": "Python 3 (ipykernel)",
   "language": "python",
   "name": "python3"
  },
  "language_info": {
   "codemirror_mode": {
    "name": "ipython",
    "version": 3
   },
   "file_extension": ".py",
   "mimetype": "text/x-python",
   "name": "python",
   "nbconvert_exporter": "python",
   "pygments_lexer": "ipython3",
   "version": "3.9.13"
  }
 },
 "nbformat": 4,
 "nbformat_minor": 5
}
